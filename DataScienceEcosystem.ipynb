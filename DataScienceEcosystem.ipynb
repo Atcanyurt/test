{
 "cells": [
  {
   "cell_type": "markdown",
   "id": "0e3e3d98",
   "metadata": {},
   "source": [
    "# Data Science Tools and Ecosystem"
   ]
  },
  {
   "cell_type": "markdown",
   "id": "e9a38a9c",
   "metadata": {},
   "source": [
    "***In this notebook, Data Science Tools and Ecosystem are summarized.***\n"
   ]
  },
  {
   "cell_type": "markdown",
   "id": "33817b10",
   "metadata": {},
   "source": [
    "**Objectives:**\n",
    "-List popular languages for Data Science\n",
    "-List popular libraries for Data Science\n",
    "-Create a table that contains three development environment open source tools used in data science."
   ]
  },
  {
   "cell_type": "markdown",
   "id": "20c641ac",
   "metadata": {},
   "source": [
    "**Some of the popular languages that Data Scientists use are:**"
   ]
  },
  {
   "cell_type": "markdown",
   "id": "a29a3fe9",
   "metadata": {},
   "source": [
    "1. Python\n",
    "2. R\n",
    "3. SQL"
   ]
  },
  {
   "cell_type": "markdown",
   "id": "15444c71",
   "metadata": {},
   "source": [
    "__Some of the commonly used libraries used by Data Scientists include:__"
   ]
  },
  {
   "cell_type": "markdown",
   "id": "287412d9",
   "metadata": {},
   "source": [
    "1. Python Libraries\n",
    "2. Apache Libraries\n",
    "3. R Libraries"
   ]
  },
  {
   "cell_type": "markdown",
   "id": "c7a1bd02",
   "metadata": {},
   "source": [
    "|Data science Tools|\n",
    "|------------------|\n",
    "|Jupyter Notebook|\n",
    "|R Studio|\n",
    "|Visual Studio Code|"
   ]
  },
  {
   "cell_type": "markdown",
   "id": "b41d8678",
   "metadata": {},
   "source": [
    "### Below are a few examples of evaluating arithmetic expressions in Python"
   ]
  },
  {
   "cell_type": "code",
   "execution_count": 1,
   "id": "33e36a8e",
   "metadata": {},
   "outputs": [
    {
     "data": {
      "text/plain": [
       "17"
      ]
     },
     "execution_count": 1,
     "metadata": {},
     "output_type": "execute_result"
    }
   ],
   "source": [
    "# This a simple arithmetic expression to mutiply then add integers:\n",
    "(3*4)+5"
   ]
  },
  {
   "cell_type": "code",
   "execution_count": 4,
   "id": "c0c80c7c",
   "metadata": {},
   "outputs": [
    {
     "data": {
      "text/plain": [
       "3.3333333333333335"
      ]
     },
     "execution_count": 4,
     "metadata": {},
     "output_type": "execute_result"
    }
   ],
   "source": [
    "# This will convert 200 minutes to hours by diving by 60\n",
    "200/60"
   ]
  },
  {
   "cell_type": "markdown",
   "id": "fd6e6fce",
   "metadata": {},
   "source": [
    "## Author\n",
    "M.Cihat "
   ]
  },
  {
   "cell_type": "code",
   "execution_count": null,
   "id": "a659f19f",
   "metadata": {},
   "outputs": [],
   "source": []
  }
 ],
 "metadata": {
  "kernelspec": {
   "display_name": "Python 3 (ipykernel)",
   "language": "python",
   "name": "python3"
  },
  "language_info": {
   "codemirror_mode": {
    "name": "ipython",
    "version": 3
   },
   "file_extension": ".py",
   "mimetype": "text/x-python",
   "name": "python",
   "nbconvert_exporter": "python",
   "pygments_lexer": "ipython3",
   "version": "3.11.4"
  }
 },
 "nbformat": 4,
 "nbformat_minor": 5
}
